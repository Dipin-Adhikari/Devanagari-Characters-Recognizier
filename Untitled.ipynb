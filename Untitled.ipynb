{
 "cells": [
  {
   "cell_type": "code",
   "execution_count": 3,
   "id": "4ecf3e6a",
   "metadata": {},
   "outputs": [],
   "source": [
    "import os\n",
    "import cv2\n",
    "import numpy as np\n",
    "import matplotlib.pyplot as plt\n",
    "from tensorflow.keras.utils import normalize\n",
    "from sklearn.model_selection import train_test_split\n",
    "from tensorflow.python.keras import Sequential\n",
    "from tensorflow.keras.layers import Conv2D, MaxPool2D, Flatten, Dense, Dropout"
   ]
  },
  {
   "cell_type": "code",
   "execution_count": 4,
   "id": "facc07d6",
   "metadata": {},
   "outputs": [
    {
     "name": "stdout",
     "output_type": "stream",
     "text": [
      "['character_01_ka', 'character_02_kha', 'character_03_ga', 'character_04_gha', 'character_05_kna', 'character_06_cha', 'character_07_chha', 'character_08_ja', 'character_09_jha', 'character_10_yna', 'character_11_taamatar', 'character_12_thaa', 'character_13_daa', 'character_14_dhaa', 'character_15_adna', 'character_16_tabala', 'character_17_tha', 'character_18_da', 'character_19_dha', 'character_20_na', 'character_21_pa', 'character_22_pha', 'character_23_ba', 'character_24_bha', 'character_25_ma', 'character_26_yaw', 'character_27_ra', 'character_28_la', 'character_29_waw', 'character_30_motosaw', 'character_31_petchiryakha', 'character_32_patalosaw', 'character_33_ha', 'character_34_chhya', 'character_35_tra', 'character_36_gya', 'digit_0', 'digit_1', 'digit_2', 'digit_3', 'digit_4', 'digit_5', 'digit_6', 'digit_7', 'digit_8', 'digit_9']\n",
      "46\n"
     ]
    }
   ],
   "source": [
    "DIRECTORY = 'Images/Images'\n",
    "categories = os.listdir(DIRECTORY)\n",
    "print(categories)\n",
    "class_no = len(categories)\n",
    "print(class_no)\n",
    "data = []\n",
    "label = []"
   ]
  },
  {
   "cell_type": "code",
   "execution_count": 5,
   "id": "247db367",
   "metadata": {},
   "outputs": [],
   "source": [
    "for i, category in enumerate(categories):\n",
    "    path = os.path.join(DIRECTORY, category)\n",
    "    for img_name in os.listdir(path):\n",
    "        img = cv2.imread(os.path.join(DIRECTORY, category, img_name))\n",
    "        img = cv2.cvtColor(img, cv2.COLOR_BGR2GRAY)\n",
    "        img = np.array(img)\n",
    "        data.append(img)\n",
    "        label.append(i)"
   ]
  },
  {
   "cell_type": "code",
   "execution_count": 6,
   "id": "36dc7ce6",
   "metadata": {},
   "outputs": [
    {
     "data": {
      "text/plain": [
       "(92000, 32, 32)"
      ]
     },
     "execution_count": 6,
     "metadata": {},
     "output_type": "execute_result"
    }
   ],
   "source": [
    "data = np.array(data, dtype=np.float32)\n",
    "data.shape"
   ]
  },
  {
   "cell_type": "code",
   "execution_count": 7,
   "id": "6db9e0e9",
   "metadata": {},
   "outputs": [],
   "source": [
    "label = np.array(label)"
   ]
  },
  {
   "cell_type": "code",
   "execution_count": 8,
   "id": "621c2f1b",
   "metadata": {},
   "outputs": [
    {
     "data": {
      "text/plain": [
       "(92000,)"
      ]
     },
     "execution_count": 8,
     "metadata": {},
     "output_type": "execute_result"
    }
   ],
   "source": [
    "label.shape"
   ]
  },
  {
   "cell_type": "code",
   "execution_count": 9,
   "id": "2e2f6492",
   "metadata": {},
   "outputs": [],
   "source": [
    "x_train, x_test, y_train, y_test = train_test_split(data, label, test_size=0.2, random_state=42)"
   ]
  },
  {
   "cell_type": "code",
   "execution_count": 11,
   "id": "0be2db36",
   "metadata": {},
   "outputs": [
    {
     "data": {
      "text/plain": [
       "(73600,)"
      ]
     },
     "execution_count": 11,
     "metadata": {},
     "output_type": "execute_result"
    }
   ],
   "source": [
    "y_train.shape"
   ]
  },
  {
   "cell_type": "code",
   "execution_count": 12,
   "id": "0445b9e1",
   "metadata": {},
   "outputs": [],
   "source": [
    "x_train = normalize(x_train)\n",
    "x_test = normalize(x_test)"
   ]
  },
  {
   "cell_type": "code",
   "execution_count": 13,
   "id": "d79cf2a6",
   "metadata": {
    "scrolled": true
   },
   "outputs": [
    {
     "data": {
      "image/png": "[encoded data removed]",
      "text/plain": [
       "<Figure size 432x288 with 1 Axes>"
      ]
     },
     "metadata": {
      "needs_background": "light"
     },
     "output_type": "display_data"
    }
   ],
   "source": [
    "plt.imshow(x_train[0], cmap='gray')\n",
    "plt.title(y_train[0])\n",
    "plt.show()"
   ]
  },
  {
   "cell_type": "code",
   "execution_count": 14,
   "id": "24e88811",
   "metadata": {},
   "outputs": [],
   "source": [
    "model = Sequential()\n",
    "\n",
    "model.add(Flatten())\n",
    "model.add(Dense(600, activation='relu'))\n",
    "model.add(Dense(600, activation='relu'))\n",
    "model.add(Dense(46, activation='softmax'))\n",
    "\n",
    "model.compile(loss=\"sparse_categorical_crossentropy\", optimizer='adam', metrics=['acc'])"
   ]
  },
  {
   "cell_type": "code",
   "execution_count": 15,
   "id": "17edaec3",
   "metadata": {},
   "outputs": [
    {
     "name": "stdout",
     "output_type": "stream",
     "text": [
      "Epoch 1/15\n",
      "1500/1500 [==============================] - 14s 9ms/step - loss: 0.9052 - acc: 0.7406 - val_loss: 0.4890 - val_acc: 0.8517\n",
      "Epoch 2/15\n",
      "1500/1500 [==============================] - 13s 8ms/step - loss: 0.3840 - acc: 0.8812 - val_loss: 0.4384 - val_acc: 0.8692\n",
      "Epoch 3/15\n",
      "1500/1500 [==============================] - 12s 8ms/step - loss: 0.2622 - acc: 0.9173 - val_loss: 0.4511 - val_acc: 0.8734\n",
      "Epoch 4/15\n",
      "1500/1500 [==============================] - 12s 8ms/step - loss: 0.2003 - acc: 0.9346 - val_loss: 0.3971 - val_acc: 0.8945\n",
      "Epoch 5/15\n",
      "1500/1500 [==============================] - 12s 8ms/step - loss: 0.1648 - acc: 0.9465 - val_loss: 0.4204 - val_acc: 0.8954\n",
      "Epoch 6/15\n",
      "1500/1500 [==============================] - 13s 9ms/step - loss: 0.1406 - acc: 0.9534 - val_loss: 0.4376 - val_acc: 0.8959\n",
      "Epoch 7/15\n",
      "1500/1500 [==============================] - 12s 8ms/step - loss: 0.1273 - acc: 0.9578 - val_loss: 0.4459 - val_acc: 0.9030\n",
      "Epoch 8/15\n",
      "1500/1500 [==============================] - 11s 8ms/step - loss: 0.1200 - acc: 0.9613 - val_loss: 0.4473 - val_acc: 0.9049\n",
      "Epoch 9/15\n",
      "1500/1500 [==============================] - 12s 8ms/step - loss: 0.1111 - acc: 0.9644 - val_loss: 0.4469 - val_acc: 0.9106\n",
      "Epoch 10/15\n",
      "1500/1500 [==============================] - 14s 9ms/step - loss: 0.0986 - acc: 0.9680 - val_loss: 0.4817 - val_acc: 0.9093\n",
      "Epoch 11/15\n",
      "1500/1500 [==============================] - 11s 8ms/step - loss: 0.0980 - acc: 0.9693 - val_loss: 0.4813 - val_acc: 0.9101\n",
      "Epoch 12/15\n",
      "1500/1500 [==============================] - 13s 8ms/step - loss: 0.0953 - acc: 0.9705 - val_loss: 0.5041 - val_acc: 0.9121\n",
      "Epoch 13/15\n",
      "1500/1500 [==============================] - 12s 8ms/step - loss: 0.0880 - acc: 0.9739 - val_loss: 0.5369 - val_acc: 0.9148\n",
      "Epoch 14/15\n",
      "1500/1500 [==============================] - 12s 8ms/step - loss: 0.0890 - acc: 0.9734 - val_loss: 0.6000 - val_acc: 0.9096\n",
      "Epoch 15/15\n",
      "1077/1500 [====================>.........] - ETA: 2s - loss: 0.0955 - acc: 0.9719WARNING:tensorflow:Your input ran out of data; interrupting training. Make sure that your dataset or generator can generate at least `steps_per_epoch * epochs` batches (in this case, 22500 batches). You may need to use the repeat() function when building your dataset.\n",
      "1500/1500 [==============================] - 9s 6ms/step - loss: 0.0954 - acc: 0.9719 - val_loss: 0.5573 - val_acc: 0.9136\n"
     ]
    },
    {
     "data": {
      "text/plain": [
       "<tensorflow.python.keras.callbacks.History at 0x233138ebcc8>"
      ]
     },
     "execution_count": 15,
     "metadata": {},
     "output_type": "execute_result"
    }
   ],
   "source": [
    "model.fit(x_train, y_train, epochs=15, steps_per_epoch=1500, validation_data=(x_test, y_test), shuffle=False)"
   ]
  },
  {
   "cell_type": "code",
   "execution_count": 16,
   "id": "8f7a4601",
   "metadata": {},
   "outputs": [
    {
     "name": "stdout",
     "output_type": "stream",
     "text": [
      "2300/2300 [==============================] - 6s 3ms/step - loss: 0.0936 - acc: 0.9738\n",
      "0.09355203062295914 0.9737907648086548\n"
     ]
    }
   ],
   "source": [
    "val_loss, val_acc = model.evaluate(x_train, y_train)\n",
    "print(val_loss, val_acc)"
   ]
  },
  {
   "cell_type": "code",
   "execution_count": 17,
   "id": "d75b4914",
   "metadata": {},
   "outputs": [
    {
     "data": {
      "image/png": "[encoded data removed]",
      "text/plain": [
       "<Figure size 432x288 with 1 Axes>"
      ]
     },
     "metadata": {
      "needs_background": "light"
     },
     "output_type": "display_data"
    }
   ],
   "source": [
    "plt.imshow(x_test[1496], cmap='gray')\n",
    "plt.show()"
   ]
  },
  {
   "cell_type": "code",
   "execution_count": 18,
   "id": "1ad6f199",
   "metadata": {},
   "outputs": [
    {
     "name": "stdout",
     "output_type": "stream",
     "text": [
      "32\n"
     ]
    }
   ],
   "source": [
    "test = x_test[1496].reshape(-1, 32, 32)\n",
    "prediction = model.predict(test)\n",
    "print(np.argmax(prediction))"
   ]
  },
  {
   "cell_type": "code",
   "execution_count": 19,
   "id": "6463c48b",
   "metadata": {},
   "outputs": [
    {
     "name": "stdout",
     "output_type": "stream",
     "text": [
      "Model: \"sequential\"\n",
      "_________________________________________________________________\n",
      "Layer (type)                 Output Shape              Param #   \n",
      "=================================================================\n",
      "flatten (Flatten)            (None, 1024)              0         \n",
      "_________________________________________________________________\n",
      "dense (Dense)                (None, 600)               615000    \n",
      "_________________________________________________________________\n",
      "dense_1 (Dense)              (None, 600)               360600    \n",
      "_________________________________________________________________\n",
      "dense_2 (Dense)              (None, 46)                27646     \n",
      "=================================================================\n",
      "Total params: 1,003,246\n",
      "Trainable params: 1,003,246\n",
      "Non-trainable params: 0\n",
      "_________________________________________________________________\n"
     ]
    }
   ],
   "source": [
    "model.summary()"
   ]
  },
  {
   "cell_type": "code",
   "execution_count": 20,
   "id": "69576ded",
   "metadata": {},
   "outputs": [],
   "source": [
    "model.save(\"Devanagari detection.h5\")"
   ]
  },
  {
   "cell_type": "code",
   "execution_count": null,
   "id": "c566b47a",
   "metadata": {},
   "outputs": [],
   "source": []
  }
 ],
 "metadata": {
  "kernelspec": {
   "display_name": "Python 3 (ipykernel)",
   "language": "python",
   "name": "python3"
  },
  "language_info": {
   "codemirror_mode": {
    "name": "ipython",
    "version": 3
   },
   "file_extension": ".py",
   "mimetype": "text/x-python",
   "name": "python",
   "nbconvert_exporter": "python",
   "pygments_lexer": "ipython3",
   "version": "3.7.4"
  }
 },
 "nbformat": 4,
 "nbformat_minor": 5
}
